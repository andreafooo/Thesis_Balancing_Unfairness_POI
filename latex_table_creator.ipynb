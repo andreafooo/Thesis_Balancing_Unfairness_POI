{
 "cells": [
  {
   "cell_type": "code",
   "execution_count": 4,
   "id": "1b2589db",
   "metadata": {},
   "outputs": [],
   "source": [
    "import pandas as pd\n",
    "from globals import BASE_DIR, available_datasets\n"
   ]
  },
  {
   "cell_type": "code",
   "execution_count": 5,
   "id": "a45ce065",
   "metadata": {},
   "outputs": [
    {
     "name": "stdout",
     "output_type": "stream",
     "text": [
      "['snowcard']\n"
     ]
    }
   ],
   "source": [
    "print(available_datasets)"
   ]
  },
  {
   "cell_type": "code",
   "execution_count": 6,
   "id": "a51dac78",
   "metadata": {},
   "outputs": [],
   "source": [
    "# RQ1: this one is for the condensed table that only includes comparison to BPR\n",
    "\n",
    "for dataset in available_datasets:\n",
    "    df = pd.read_csv(f\"{BASE_DIR}/{dataset}_dataset/evaluation_results_rq1.csv\")\n",
    "    user_group_order = [\"LowPop\", \"MedPop\", \"HighPop\", \"All\"]\n",
    "    df[\"user_group\"] = pd.Categorical(\n",
    "        df[\"user_group\"], categories=user_group_order, ordered=True\n",
    "    )\n",
    "\n",
    "    df_pivot = df.pivot(\n",
    "        index=[\"user_group\"], columns=\"method\", values=[\"ndcg\", \"arp\", \"poplift\"]\n",
    "    )\n",
    "\n",
    "    df_pivot = df_pivot.sort_values(by=[\"user_group\"], axis=0, ascending=True)\n",
    "    df_reset = df_pivot.reset_index()\n",
    "\n",
    "    latex_table = df_reset.to_latex(\n",
    "        escape=False,\n",
    "        index=False,\n",
    "        multicolumn=True,\n",
    "        multirow=True,\n",
    "        column_format=\"lccccccccccccccc\",\n",
    "        header=True,\n",
    "    )\n",
    "\n",
    "    latex_table = latex_table.replace(\"\\\\midrule\", \"\\\\hline\")\n",
    "    latex_table = latex_table.replace(\"\\\\bottomrule\", \"\\\\hline\")\n",
    "    latex_table = latex_table.replace(\"user_group\", \"group\")\n",
    "    latex_table = latex_table.replace(\"cp_min_js\", \"$ BPR + CP_\\Im$\")\n",
    "    latex_table = latex_table.replace(\"cp\", \"BPR + $CP_H$\")\n",
    "    latex_table = latex_table.replace(\"%\", \"\\%\")\n",
    "\n",
    "    latex_output = f\"\"\"\n",
    "\\\\begin{{table*}}[]\n",
    "\\\\centering\n",
    "\\\\resizebox{{\\\\textwidth}}{{!}}{{%\n",
    "{latex_table}\n",
    "}}\n",
    "\\\\caption{{{dataset.capitalize()} evaluation results}}\n",
    "\\\\label{{tab:{dataset}_eval}}\n",
    "\\\\end{{table*}}\n",
    "\"\"\"\n",
    "\n",
    "    # Save LaTeX file\n",
    "    with open(f\"{BASE_DIR}{dataset}_dataset/{dataset}_eval_rq1.tex\", \"w\") as f:\n",
    "        f.write(latex_output)"
   ]
  },
  {
   "cell_type": "code",
   "execution_count": 7,
   "id": "76835bef",
   "metadata": {},
   "outputs": [],
   "source": [
    "for dataset in available_datasets:\n",
    "    df = pd.read_csv(f\"{BASE_DIR}/{dataset}_dataset/evaluation_results_rq2.csv\")\n",
    "\n",
    "    df = df.loc[df[\"model\"].isin([\"BPR\", \"LORE\", \"USG\"])]\n",
    "    df = df.loc[df[\"method\"] != \"upd\"]\n",
    "    df.drop(columns=[\"js\"], inplace=True)\n",
    "\n",
    "    user_group_order = [\"LowPop\", \"MedPop\", \"HighPop\", \"All\"]\n",
    "    df[\"user_group\"] = pd.Categorical(\n",
    "        df[\"user_group\"], categories=user_group_order, ordered=True\n",
    "    )\n",
    "\n",
    "    float_columns = df.select_dtypes(include=\"float\").columns\n",
    "    df[float_columns] = df[float_columns].round(4)\n",
    "\n",
    "    df_pivot = df.pivot(\n",
    "        index=[\"model\", \"user_group\"],\n",
    "        columns=\"method\",\n",
    "        values=[\"ndcg\", \"arp\", \"poplift\"],\n",
    "    )\n",
    "    df_pivot = df_pivot.sort_values(by=[\"model\", \"user_group\"], ascending=True)\n",
    "\n",
    "    df_reset = df_pivot.reset_index()\n",
    "\n",
    "    latex_table = df_reset.to_latex(\n",
    "        escape=False,\n",
    "        index=False,\n",
    "        multicolumn=True,\n",
    "        multirow=True,\n",
    "        column_format=\"llcccccccc\",  \n",
    "        header=True,\n",
    "    )\n",
    "    latex_table = latex_table.replace(\"\\\\midrule\", \"\\\\hline\")\n",
    "    latex_table = latex_table.replace(\"\\\\bottomrule\", \"\\\\hline\")\n",
    "    latex_table = latex_table.replace(\"user_group\", \"group\")\n",
    "    latex_table = latex_table.replace(\"cp_min_js\", \"CP_\\Im\")\n",
    "    latex_table = latex_table.replace(\"cp\", \"CP_H\")\n",
    "    latex_table = latex_table.replace(\"baseline\", \"Base\")\n",
    "    latex_table = latex_table.replace(\"%\", \"\\%\")\n",
    "    latex_table = latex_table.replace(\"Δ=\", \"\")\n",
    "\n",
    "    # Wrap the LaTeX table in the full structure\n",
    "    latex_output = f\"\"\"\n",
    "\\\\begin{{table*}}[]\n",
    "\\\\centering\n",
    "\\\\resizebox{{\\\\textwidth}}{{!}}{{%\n",
    "{latex_table}\n",
    "}}\n",
    "\\\\caption{{{dataset.capitalize()} evaluation results}}\n",
    "\\\\label{{tab:{dataset}_eval}}\n",
    "\\\\end{{table*}}\n",
    "\"\"\"\n",
    "\n",
    "    # Save LaTeX file\n",
    "    with open(f\"{BASE_DIR}/{dataset}_dataset/{dataset}_eval_rq2.tex\", \"w\") as f:\n",
    "        f.write(latex_output)"
   ]
  },
  {
   "cell_type": "code",
   "execution_count": null,
   "id": "e59720fe",
   "metadata": {},
   "outputs": [],
   "source": []
  }
 ],
 "metadata": {
  "kernelspec": {
   "display_name": "venv",
   "language": "python",
   "name": "python3"
  },
  "language_info": {
   "codemirror_mode": {
    "name": "ipython",
    "version": 3
   },
   "file_extension": ".py",
   "mimetype": "text/x-python",
   "name": "python",
   "nbconvert_exporter": "python",
   "pygments_lexer": "ipython3",
   "version": "3.11.8"
  }
 },
 "nbformat": 4,
 "nbformat_minor": 5
}
