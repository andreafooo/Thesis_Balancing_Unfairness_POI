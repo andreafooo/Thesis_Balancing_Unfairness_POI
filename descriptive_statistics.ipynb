{
 "cells": [
  {
   "cell_type": "code",
   "execution_count": null,
   "metadata": {},
   "outputs": [],
   "source": [
    "import pandas as pd\n",
    "from globals import BASE_DIR, available_datasets\n",
    "import json\n"
   ]
  },
  {
   "cell_type": "code",
   "execution_count": null,
   "metadata": {},
   "outputs": [],
   "source": [
    "def group_user_events(user_events, user_groups):\n",
    "    \"\"\" Return statistics of user events for each group of users.\"\"\"\n",
    "    stats = {}\n",
    "    for group in user_groups.keys():\n",
    "        stats[group] = {}\n",
    "        user_events_group = user_events.copy()\n",
    "        user_events_group = user_events_group.loc[user_events_group[\"user_id:token\"].isin(user_groups[group])]\n",
    "        user_dist = user_events_group[\"user_id:token\"].value_counts()\n",
    "        stats[group][\"num_users\"] = user_dist.shape[0]\n",
    "        stats[group][\"mean_checkins\"] = user_events_group[\"user_id:token\"].value_counts().mean()\n",
    "        stats[group][\"min_checkins\"] = user_events_group[\"user_id:token\"].value_counts().min()\n",
    "        stats[group][\"max_checkins\"] = user_events_group[\"user_id:token\"].value_counts().max()\n",
    "        item_dist = user_events_group[\"item_id:token\"].value_counts()\n",
    "        stats[group][\"num_items\"] = item_dist.shape[0]\n",
    "        stats[group][\"num_checkins\"] = user_events_group.shape[0]\n",
    "        stats[group][\"sparsity\"] = 1 - len(user_events_group) / (len(user_events_group[\"user_id:token\"].unique()) * len(user_events_group[\"item_id:token\"].unique()))\n",
    "\n",
    "    return stats\n",
    "\n"
   ]
  },
  {
   "cell_type": "code",
   "execution_count": null,
   "metadata": {},
   "outputs": [],
   "source": [
    "full_stats = {}\n",
    "for dataset in available_datasets:\n",
    "    train_data = pd.read_csv(f\"{BASE_DIR}{dataset}_dataset/processed_data_recbole/{dataset}_sample.train.inter\", sep=\"\\t\")\n",
    "    test_data = pd.read_csv(f\"{BASE_DIR}{dataset}_dataset/processed_data_recbole/{dataset}_sample.test.inter\", sep=\"\\t\")\n",
    "    valid_data = pd.read_csv(f\"{BASE_DIR}{dataset}_dataset/processed_data_recbole/{dataset}_sample.valid.inter\", sep=\"\\t\")\n",
    "\n",
    "    user_group_dir = f\"{BASE_DIR}{dataset}_dataset/{dataset}_user_id_popularity.json\"\n",
    "    with open(user_group_dir) as f:\n",
    "        user_groups = json.load(f)\n",
    "\n",
    "\n",
    "    all_user_ids = (\n",
    "    set(user_groups[\"high\"])\n",
    "    | set(user_groups[\"medium\"])\n",
    "    | set(user_groups[\"low\"])\n",
    "    )\n",
    "    user_groups[\"all\"] = list(all_user_ids)\n",
    "    user_events = pd.concat([train_data, valid_data, test_data])\n",
    "    user_events = user_events.drop_duplicates(subset=[\"user_id:token\", \"item_id:token\"])\n",
    "\n",
    "    full_stats[dataset] = group_user_events(user_events, user_groups)\n",
    "\n",
    "long_format_df = []\n",
    "\n",
    "for dataset, group_stats in full_stats.items():\n",
    "    for group, metrics in group_stats.items():\n",
    "        row = {\"dataset\": dataset, \"group\": group}\n",
    "        row.update(metrics)\n",
    "        long_format_df.append(row)\n",
    "\n",
    "\n",
    "long_format_df = pd.DataFrame(long_format_df)\n"
   ]
  },
  {
   "cell_type": "code",
   "execution_count": null,
   "metadata": {},
   "outputs": [],
   "source": [
    "long_format_df\n"
   ]
  },
  {
   "cell_type": "code",
   "execution_count": null,
   "metadata": {},
   "outputs": [],
   "source": [
    "stats_all_users = long_format_df.loc[long_format_df[\"group\"] == \"all\"]\n",
    "stats_all_users.to_csv(f\"{BASE_DIR}/descriptive_stats.csv\", index=False)"
   ]
  }
 ],
 "metadata": {
  "kernelspec": {
   "display_name": "venv",
   "language": "python",
   "name": "python3"
  },
  "language_info": {
   "codemirror_mode": {
    "name": "ipython",
    "version": 3
   },
   "file_extension": ".py",
   "mimetype": "text/x-python",
   "name": "python",
   "nbconvert_exporter": "python",
   "pygments_lexer": "ipython3",
   "version": "3.11.8"
  }
 },
 "nbformat": 4,
 "nbformat_minor": 2
}
